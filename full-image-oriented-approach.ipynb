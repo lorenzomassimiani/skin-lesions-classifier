{
 "cells": [
  {
   "cell_type": "markdown",
   "metadata": {},
   "source": [
    "<span style=\"font-family:Bebas Neue; font-size:2em;\">Two Machine Learning Approaches In Skin Lesions Classification - Part 1</span> "
   ]
  },
  {
   "cell_type": "code",
   "execution_count": 50,
   "metadata": {},
   "outputs": [],
   "source": [
    "import pandas as pd\n",
    "import numpy as np\n",
    "import matplotlib.pyplot as plt\n",
    "import os\n",
    "import zipfile\n",
    "import cv2\n",
    "import shutil\n",
    "import numpy as np\n",
    "import seaborn as sb\n",
    "import hickle as hkl\n",
    "from imblearn.over_sampling import SMOTE\n",
    "from sklearn.model_selection import train_test_split\n",
    "from sklearn.preprocessing import LabelEncoder\n",
    "from sklearn.metrics import classification_report\n",
    "from sklearn.metrics import accuracy_score\n",
    "from sklearn.ensemble import ExtraTreesClassifier\n",
    "from sklearn.model_selection import KFold\n",
    "from keras.utils import np_utils\n",
    "from keras.models import Sequential\n",
    "from keras.layers import Conv2D, Input, Dense, AveragePooling2D, Flatten, MaxPooling2D"
   ]
  },
  {
   "cell_type": "markdown",
   "metadata": {},
   "source": [
    "<span style=\"font-family:Bebas Neue; font-size:2em;\">FULL IMAGE ORIENTED APPROACH</span> "
   ]
  },
  {
   "cell_type": "markdown",
   "metadata": {},
   "source": [
    "The objective of the project is building a ML model able to classify skin lesions. There are 7 possible classes:\n",
    "* AKIEC - Actinic keratoses and intraepithelial carcinoma / Bowen's disease\n",
    "* BCC - basal cell carcinoma\n",
    "* BKL - benign keratosis-like lesions (solar lentigines)\n",
    "* DF - dermatofibroma\n",
    "* MEL - melanoma\n",
    "* NV - melanocytic nevi (mole)\n",
    "* VASC - vascular lesions (angiomas, angiokeratomas, pyogenic granulomas and hemorrhage)"
   ]
  },
  {
   "cell_type": "markdown",
   "metadata": {},
   "source": [
    "The first approach (full-image oriented) consist in training a Convolutional Neural Network that classify skin lesions using only their photos."
   ]
  },
  {
   "cell_type": "markdown",
   "metadata": {},
   "source": [
    "### Data loading"
   ]
  },
  {
   "cell_type": "markdown",
   "metadata": {},
   "source": [
    "Before starting, download zip file of the dataset from https://dataverse.harvard.edu/dataset.xhtml?persistentId=doi:10.7910/DVN/DBW86T clicking on \"Access Dataset\" and then \"Original Format ZIP\" and put it into the github directory of the project."
   ]
  },
  {
   "cell_type": "code",
   "execution_count": 124,
   "metadata": {},
   "outputs": [],
   "source": [
    "os.makedirs(\"dataset\", exist_ok=True)\n",
    "dataset_zip = zipfile.ZipFile(\"dataverse_files.zip\",'r')\n",
    "dataset_zip.extract(\"HAM10000_images_part_1.zip\", \"dataset\")\n",
    "dataset_zip.extract(\"HAM10000_images_part_2.zip\", \"dataset\")\n",
    "dataset_zip.extract(\"HAM10000_metadata.csv\", \"dataset\")\n",
    "dataset_zip.close()\n",
    "zipfile.ZipFile(\"dataset/HAM10000_images_part_1.zip\",'r').extractall(\"dataset\")\n",
    "zipfile.ZipFile(\"dataset/HAM10000_images_part_2.zip\",'r').extractall(\"dataset\")\n",
    "\n",
    "os.remove(\"dataset/HAM10000_images_part_1.zip\")\n",
    "os.remove(\"dataset/HAM10000_images_part_2.zip\")"
   ]
  },
  {
   "cell_type": "markdown",
   "metadata": {},
   "source": [
    "Let's look at the metadata csv."
   ]
  },
  {
   "cell_type": "code",
   "execution_count": 2,
   "metadata": {},
   "outputs": [],
   "source": [
    "metadata = pd.read_csv('dataset/HAM10000_metadata.csv')"
   ]
  },
  {
   "cell_type": "code",
   "execution_count": 113,
   "metadata": {
    "scrolled": true
   },
   "outputs": [
    {
     "data": {
      "text/html": [
       "<div>\n",
       "<style scoped>\n",
       "    .dataframe tbody tr th:only-of-type {\n",
       "        vertical-align: middle;\n",
       "    }\n",
       "\n",
       "    .dataframe tbody tr th {\n",
       "        vertical-align: top;\n",
       "    }\n",
       "\n",
       "    .dataframe thead th {\n",
       "        text-align: right;\n",
       "    }\n",
       "</style>\n",
       "<table border=\"1\" class=\"dataframe\">\n",
       "  <thead>\n",
       "    <tr style=\"text-align: right;\">\n",
       "      <th></th>\n",
       "      <th>lesion_id</th>\n",
       "      <th>image_id</th>\n",
       "      <th>dx</th>\n",
       "      <th>dx_type</th>\n",
       "      <th>age</th>\n",
       "      <th>sex</th>\n",
       "      <th>localization</th>\n",
       "    </tr>\n",
       "  </thead>\n",
       "  <tbody>\n",
       "    <tr>\n",
       "      <th>0</th>\n",
       "      <td>HAM_0000118</td>\n",
       "      <td>ISIC_0027419</td>\n",
       "      <td>bkl</td>\n",
       "      <td>histo</td>\n",
       "      <td>80.0</td>\n",
       "      <td>male</td>\n",
       "      <td>scalp</td>\n",
       "    </tr>\n",
       "    <tr>\n",
       "      <th>1</th>\n",
       "      <td>HAM_0000118</td>\n",
       "      <td>ISIC_0025030</td>\n",
       "      <td>bkl</td>\n",
       "      <td>histo</td>\n",
       "      <td>80.0</td>\n",
       "      <td>male</td>\n",
       "      <td>scalp</td>\n",
       "    </tr>\n",
       "    <tr>\n",
       "      <th>2</th>\n",
       "      <td>HAM_0002730</td>\n",
       "      <td>ISIC_0026769</td>\n",
       "      <td>bkl</td>\n",
       "      <td>histo</td>\n",
       "      <td>80.0</td>\n",
       "      <td>male</td>\n",
       "      <td>scalp</td>\n",
       "    </tr>\n",
       "    <tr>\n",
       "      <th>3</th>\n",
       "      <td>HAM_0002730</td>\n",
       "      <td>ISIC_0025661</td>\n",
       "      <td>bkl</td>\n",
       "      <td>histo</td>\n",
       "      <td>80.0</td>\n",
       "      <td>male</td>\n",
       "      <td>scalp</td>\n",
       "    </tr>\n",
       "    <tr>\n",
       "      <th>4</th>\n",
       "      <td>HAM_0001466</td>\n",
       "      <td>ISIC_0031633</td>\n",
       "      <td>bkl</td>\n",
       "      <td>histo</td>\n",
       "      <td>75.0</td>\n",
       "      <td>male</td>\n",
       "      <td>ear</td>\n",
       "    </tr>\n",
       "  </tbody>\n",
       "</table>\n",
       "</div>"
      ],
      "text/plain": [
       "     lesion_id      image_id   dx dx_type   age   sex localization\n",
       "0  HAM_0000118  ISIC_0027419  bkl   histo  80.0  male        scalp\n",
       "1  HAM_0000118  ISIC_0025030  bkl   histo  80.0  male        scalp\n",
       "2  HAM_0002730  ISIC_0026769  bkl   histo  80.0  male        scalp\n",
       "3  HAM_0002730  ISIC_0025661  bkl   histo  80.0  male        scalp\n",
       "4  HAM_0001466  ISIC_0031633  bkl   histo  75.0  male          ear"
      ]
     },
     "execution_count": 113,
     "metadata": {},
     "output_type": "execute_result"
    }
   ],
   "source": [
    "metadata.head()"
   ]
  },
  {
   "cell_type": "markdown",
   "metadata": {},
   "source": [
    "Then I put images into the corresponding lesion folder."
   ]
  },
  {
   "cell_type": "code",
   "execution_count": 126,
   "metadata": {},
   "outputs": [],
   "source": [
    "lesion_types = metadata[\"dx\"].unique()\n",
    "for lesion in lesion_types:\n",
    "    os.mkdir(f\"dataset/{lesion}\")"
   ]
  },
  {
   "cell_type": "code",
   "execution_count": 127,
   "metadata": {},
   "outputs": [],
   "source": [
    "image_list = os.listdir(\"dataset\")\n",
    "for image in image_list:\n",
    "    if \".jpg\" in image:\n",
    "        lesion = metadata[metadata[\"image_id\"] == image.split(\".\")[0]][\"dx\"].to_string().split(\" \")[-1]\n",
    "        shutil.move(f\"dataset/{image}\", f\"dataset/{lesion}\")"
   ]
  },
  {
   "cell_type": "markdown",
   "metadata": {},
   "source": [
    "### Undersample \"nv\" class"
   ]
  },
  {
   "cell_type": "markdown",
   "metadata": {},
   "source": [
    "Looking at the target feature value counts I noted that it is highly unbalanced."
   ]
  },
  {
   "cell_type": "code",
   "execution_count": 114,
   "metadata": {},
   "outputs": [
    {
     "data": {
      "text/plain": [
       "nv       6705\n",
       "mel      1113\n",
       "bkl      1099\n",
       "bcc       514\n",
       "akiec     327\n",
       "vasc      142\n",
       "df        115\n",
       "Name: dx, dtype: int64"
      ]
     },
     "execution_count": 114,
     "metadata": {},
     "output_type": "execute_result"
    }
   ],
   "source": [
    "metadata['dx'].value_counts()"
   ]
  },
  {
   "cell_type": "markdown",
   "metadata": {},
   "source": [
    "Firstly I undersample \"nv\" class to have 1700 samples, later I'll use smote algorithm to create synthetic images for oversampling the other classes."
   ]
  },
  {
   "cell_type": "code",
   "execution_count": 3,
   "metadata": {},
   "outputs": [],
   "source": [
    "nv_to_delete = metadata[metadata[\"dx\"]==\"nv\"][\"image_id\"].sample(5005)\n",
    "nv_to_delete_array = nv_to_delete.to_numpy()"
   ]
  },
  {
   "cell_type": "code",
   "execution_count": 4,
   "metadata": {},
   "outputs": [],
   "source": [
    "metadata = metadata.drop(nv_to_delete.index)"
   ]
  },
  {
   "cell_type": "code",
   "execution_count": 5,
   "metadata": {},
   "outputs": [
    {
     "data": {
      "text/plain": [
       "nv       1700\n",
       "mel      1113\n",
       "bkl      1099\n",
       "bcc       514\n",
       "akiec     327\n",
       "vasc      142\n",
       "df        115\n",
       "Name: dx, dtype: int64"
      ]
     },
     "execution_count": 5,
     "metadata": {},
     "output_type": "execute_result"
    }
   ],
   "source": [
    "metadata['dx'].value_counts()"
   ]
  },
  {
   "cell_type": "markdown",
   "metadata": {},
   "source": [
    "### Load pictures"
   ]
  },
  {
   "cell_type": "markdown",
   "metadata": {},
   "source": [
    "Now I define and apply the loadPictures function to load all the images except those who where cutted by the previous undersampling."
   ]
  },
  {
   "cell_type": "code",
   "execution_count": 5,
   "metadata": {},
   "outputs": [],
   "source": [
    "def loadPictures(path):\n",
    "  for _,dirs,_ in os.walk(path):\n",
    "    X = list()\n",
    "    y = list()\n",
    "    for dir in dirs:\n",
    "        for _, _,files in os.walk(os.path.join(path, dir)):\n",
    "            for file in files:\n",
    "                if (not \"jpg\" in file) or file[:-4] in nv_to_delete_array:\n",
    "                    continue\n",
    "                whole_path = os.path.join(path, dir, file)\n",
    "                img = cv2.imread(whole_path)\n",
    "                X.append(img)\n",
    "                y.append(dir)\n",
    "    return X, y"
   ]
  },
  {
   "cell_type": "code",
   "execution_count": 33,
   "metadata": {
    "scrolled": false
   },
   "outputs": [],
   "source": [
    "X, y = loadPictures(\"dataset\")"
   ]
  },
  {
   "cell_type": "markdown",
   "metadata": {},
   "source": [
    "Let's look at an example:"
   ]
  },
  {
   "cell_type": "code",
   "execution_count": 8,
   "metadata": {},
   "outputs": [
    {
     "data": {
      "text/plain": [
       "'akiec'"
      ]
     },
     "execution_count": 8,
     "metadata": {},
     "output_type": "execute_result"
    },
    {
     "data": {
      "image/png": "[encoded data removed]",
      "text/plain": [
       "<Figure size 432x288 with 1 Axes>"
      ]
     },
     "metadata": {
      "needs_background": "light"
     },
     "output_type": "display_data"
    }
   ],
   "source": [
    "plt.imshow(cv2.cvtColor(X[100], cv2.COLOR_BGR2RGB))\n",
    "y[100]"
   ]
  },
  {
   "cell_type": "markdown",
   "metadata": {},
   "source": [
    "### Images preprocessing"
   ]
  },
  {
   "cell_type": "markdown",
   "metadata": {},
   "source": [
    "I define and apply a preprocessingImage function that convert in gray scale each image and normalized them dividing each pixel by 255."
   ]
  },
  {
   "cell_type": "code",
   "execution_count": 34,
   "metadata": {},
   "outputs": [],
   "source": [
    "def preprocessImage(dataset):\n",
    "    scaled_dataset = list()\n",
    "    for img in dataset:\n",
    "        img_resize = cv2.resize(img, (64,64))\n",
    "        gray = cv2.cvtColor(img_resize,cv2.COLOR_BGR2GRAY)\n",
    "        gray = gray.astype('float32') / 255.\n",
    "        gray = np.expand_dims(gray,axis=-1)\n",
    "        scaled_dataset.append(gray)\n",
    "    scaled_dataset = np.array(scaled_dataset)\n",
    "    \n",
    "    return scaled_dataset"
   ]
  },
  {
   "cell_type": "code",
   "execution_count": 35,
   "metadata": {},
   "outputs": [],
   "source": [
    "X = preprocessImage(X)"
   ]
  },
  {
   "cell_type": "markdown",
   "metadata": {},
   "source": [
    "### Oversampling"
   ]
  },
  {
   "cell_type": "markdown",
   "metadata": {},
   "source": [
    "Now, as I explained previously, I use smote algorithm to obtain a perfectly balanced dataset."
   ]
  },
  {
   "cell_type": "code",
   "execution_count": 37,
   "metadata": {},
   "outputs": [],
   "source": [
    "sm = SMOTE(random_state=42)\n",
    "X, y = sm.fit_resample(X.reshape(np.shape(X)[0],-1), y)"
   ]
  },
  {
   "cell_type": "markdown",
   "metadata": {},
   "source": [
    "And I fix dimensions after smote to make the dataset ready for the CNN. "
   ]
  },
  {
   "cell_type": "code",
   "execution_count": 38,
   "metadata": {},
   "outputs": [
    {
     "name": "stdout",
     "output_type": "stream",
     "text": [
      "(11900, 4096)\n",
      "(11900, 64, 64, 1)\n"
     ]
    }
   ],
   "source": [
    "print(np.shape(X))\n",
    "X = X.reshape((np.shape(X)[0],64,64))\n",
    "X = np.expand_dims(X, axis=-1)\n",
    "print(np.shape(X))"
   ]
  },
  {
   "cell_type": "markdown",
   "metadata": {},
   "source": [
    "Let's look at an example of synthetic image:"
   ]
  },
  {
   "cell_type": "code",
   "execution_count": 39,
   "metadata": {},
   "outputs": [
    {
     "data": {
      "text/plain": [
       "'mel'"
      ]
     },
     "execution_count": 39,
     "metadata": {},
     "output_type": "execute_result"
    },
    {
     "data": {
      "image/png": "[encoded data removed]",
      "text/plain": [
       "<Figure size 432x288 with 1 Axes>"
      ]
     },
     "metadata": {
      "needs_background": "light"
     },
     "output_type": "display_data"
    }
   ],
   "source": [
    "plt.imshow(X[10016,:,:,0])\n",
    "y[10016]"
   ]
  },
  {
   "cell_type": "markdown",
   "metadata": {},
   "source": [
    "### Training and Test sets"
   ]
  },
  {
   "cell_type": "markdown",
   "metadata": {},
   "source": [
    "Finally I create training and test datasets."
   ]
  },
  {
   "cell_type": "code",
   "execution_count": 61,
   "metadata": {},
   "outputs": [],
   "source": [
    "X_train, X_test, y_train, y_test = train_test_split(X, y, test_size=0.2)"
   ]
  },
  {
   "cell_type": "markdown",
   "metadata": {},
   "source": [
    "And I One-Hot encode the target feature."
   ]
  },
  {
   "cell_type": "code",
   "execution_count": 60,
   "metadata": {},
   "outputs": [],
   "source": [
    "le = LabelEncoder()\n",
    "le.fit(y)\n",
    "y_train = le.transform(y_train)\n",
    "y_train = np_utils.to_categorical(y_train)\n",
    "y_encoded = le.transform(y)\n",
    "y_encoded = np_utils.to_categorical(y_encoded)"
   ]
  },
  {
   "cell_type": "markdown",
   "metadata": {},
   "source": [
    "## Results"
   ]
  },
  {
   "cell_type": "markdown",
   "metadata": {},
   "source": [
    "After the hypeparameter tuning I obtain the following Convolutional Neural Network:"
   ]
  },
  {
   "cell_type": "code",
   "execution_count": 24,
   "metadata": {},
   "outputs": [],
   "source": [
    "def tuned_cnn():\n",
    "    model = Sequential()\n",
    "    model.add(Conv2D(32, (5,5), activation='relu', padding='same', input_shape=(64,64,1)))\n",
    "    model.add(AveragePooling2D(2,2))\n",
    "    model.add(Conv2D(128, (5,5), activation='relu', padding='same'))\n",
    "    model.add(AveragePooling2D(2,2))\n",
    "    model.add(Flatten())\n",
    "    model.add(Dense(256, activation='relu'))\n",
    "    model.add(Dense(7, activation='softmax'))\n",
    "    model.compile(loss='categorical_crossentropy', optimizer='Adam', metrics=['accuracy'])\n",
    "    return model"
   ]
  },
  {
   "cell_type": "code",
   "execution_count": 61,
   "metadata": {},
   "outputs": [
    {
     "name": "stdout",
     "output_type": "stream",
     "text": [
      "Epoch 1/70\n",
      "265/265 [==============================] - 38s 144ms/step - loss: 1.7316 - accuracy: 0.2822\n",
      "Epoch 2/70\n",
      "265/265 [==============================] - 39s 146ms/step - loss: 1.5120 - accuracy: 0.3984\n",
      "Epoch 3/70\n",
      "265/265 [==============================] - 39s 147ms/step - loss: 1.3353 - accuracy: 0.4893\n",
      "Epoch 4/70\n",
      "265/265 [==============================] - 39s 149ms/step - loss: 1.1241 - accuracy: 0.5792\n",
      "Epoch 5/70\n",
      "265/265 [==============================] - 39s 148ms/step - loss: 0.9253 - accuracy: 0.6619\n",
      "Epoch 6/70\n",
      "265/265 [==============================] - 37s 141ms/step - loss: 0.7593 - accuracy: 0.7194\n",
      "Epoch 7/70\n",
      "265/265 [==============================] - 38s 143ms/step - loss: 0.6263 - accuracy: 0.7720\n",
      "Epoch 8/70\n",
      "265/265 [==============================] - 37s 141ms/step - loss: 0.5088 - accuracy: 0.8145\n",
      "Epoch 9/70\n",
      "265/265 [==============================] - 40s 150ms/step - loss: 0.4375 - accuracy: 0.8452\n",
      "Epoch 10/70\n",
      "265/265 [==============================] - 38s 145ms/step - loss: 0.3557 - accuracy: 0.8765\n",
      "Epoch 11/70\n",
      "265/265 [==============================] - 37s 140ms/step - loss: 0.2934 - accuracy: 0.8957\n",
      "Epoch 12/70\n",
      "265/265 [==============================] - 38s 145ms/step - loss: 0.2571 - accuracy: 0.9090\n",
      "Epoch 13/70\n",
      "265/265 [==============================] - 39s 147ms/step - loss: 0.1946 - accuracy: 0.9338\n",
      "Epoch 14/70\n",
      "265/265 [==============================] - 39s 148ms/step - loss: 0.1646 - accuracy: 0.9434\n",
      "Epoch 15/70\n",
      "265/265 [==============================] - 39s 146ms/step - loss: 0.1313 - accuracy: 0.9577\n",
      "Epoch 16/70\n",
      "265/265 [==============================] - 39s 146ms/step - loss: 0.1080 - accuracy: 0.9647\n",
      "Epoch 17/70\n",
      "265/265 [==============================] - 39s 147ms/step - loss: 0.0956 - accuracy: 0.9688\n",
      "Epoch 18/70\n",
      "265/265 [==============================] - 39s 148ms/step - loss: 0.0907 - accuracy: 0.9703\n",
      "Epoch 19/70\n",
      "265/265 [==============================] - 39s 149ms/step - loss: 0.0699 - accuracy: 0.9792\n",
      "Epoch 20/70\n",
      "265/265 [==============================] - 39s 145ms/step - loss: 0.0596 - accuracy: 0.9822\n",
      "Epoch 21/70\n",
      "265/265 [==============================] - 39s 146ms/step - loss: 0.0743 - accuracy: 0.9762\n",
      "Epoch 22/70\n",
      "265/265 [==============================] - 39s 146ms/step - loss: 0.0876 - accuracy: 0.9703\n",
      "Epoch 23/70\n",
      "265/265 [==============================] - 37s 140ms/step - loss: 0.0352 - accuracy: 0.9895\n",
      "Epoch 24/70\n",
      "265/265 [==============================] - 37s 140ms/step - loss: 0.0268 - accuracy: 0.9931\n",
      "Epoch 25/70\n",
      "265/265 [==============================] - 38s 144ms/step - loss: 0.0515 - accuracy: 0.9847\n",
      "Epoch 26/70\n",
      "265/265 [==============================] - 40s 149ms/step - loss: 0.0360 - accuracy: 0.9905\n",
      "Epoch 27/70\n",
      "265/265 [==============================] - 37s 140ms/step - loss: 0.0176 - accuracy: 0.9955\n",
      "Epoch 28/70\n",
      "265/265 [==============================] - 39s 149ms/step - loss: 0.0049 - accuracy: 0.9995\n",
      "Epoch 29/70\n",
      "265/265 [==============================] - 39s 146ms/step - loss: 0.0036 - accuracy: 0.9998\n",
      "Epoch 30/70\n",
      "265/265 [==============================] - 37s 139ms/step - loss: 0.0015 - accuracy: 1.0000\n",
      "Epoch 31/70\n",
      "265/265 [==============================] - 37s 139ms/step - loss: 8.3742e-04 - accuracy: 1.0000\n",
      "Epoch 32/70\n",
      "265/265 [==============================] - 39s 149ms/step - loss: 0.0152 - accuracy: 0.9951\n",
      "Epoch 33/70\n",
      "265/265 [==============================] - 38s 143ms/step - loss: 0.1812 - accuracy: 0.9368\n",
      "Epoch 34/70\n",
      "265/265 [==============================] - 38s 142ms/step - loss: 0.0326 - accuracy: 0.9916\n",
      "Epoch 35/70\n",
      "265/265 [==============================] - 39s 147ms/step - loss: 0.0057 - accuracy: 0.9992\n",
      "Epoch 36/70\n",
      "265/265 [==============================] - 38s 143ms/step - loss: 0.0023 - accuracy: 1.0000\n",
      "Epoch 37/70\n",
      "265/265 [==============================] - 37s 140ms/step - loss: 0.0011 - accuracy: 1.0000\n",
      "Epoch 38/70\n",
      "265/265 [==============================] - 37s 139ms/step - loss: 7.5948e-04 - accuracy: 1.0000\n",
      "Epoch 39/70\n",
      "265/265 [==============================] - 37s 139ms/step - loss: 5.9108e-04 - accuracy: 1.0000\n",
      "Epoch 40/70\n",
      "265/265 [==============================] - 37s 140ms/step - loss: 4.8522e-04 - accuracy: 1.0000\n",
      "Epoch 41/70\n",
      "265/265 [==============================] - 38s 143ms/step - loss: 4.1040e-04 - accuracy: 1.0000\n",
      "Epoch 42/70\n",
      "265/265 [==============================] - 37s 140ms/step - loss: 3.2589e-04 - accuracy: 1.0000\n",
      "Epoch 43/70\n",
      "265/265 [==============================] - 37s 140ms/step - loss: 2.8501e-04 - accuracy: 1.0000\n",
      "Epoch 44/70\n",
      "265/265 [==============================] - 38s 142ms/step - loss: 2.2901e-04 - accuracy: 1.0000\n",
      "Epoch 45/70\n",
      "265/265 [==============================] - 37s 140ms/step - loss: 1.9229e-04 - accuracy: 1.0000\n",
      "Epoch 46/70\n",
      "265/265 [==============================] - 37s 140ms/step - loss: 1.5910e-04 - accuracy: 1.0000\n",
      "Epoch 47/70\n",
      "265/265 [==============================] - 37s 141ms/step - loss: 1.2997e-04 - accuracy: 1.0000\n",
      "Epoch 48/70\n",
      "265/265 [==============================] - 38s 143ms/step - loss: 1.1195e-04 - accuracy: 1.0000\n",
      "Epoch 49/70\n",
      "265/265 [==============================] - 37s 140ms/step - loss: 9.6855e-05 - accuracy: 1.0000\n",
      "Epoch 50/70\n",
      "265/265 [==============================] - 38s 145ms/step - loss: 8.5981e-05 - accuracy: 1.0000\n",
      "Epoch 51/70\n",
      "265/265 [==============================] - 39s 148ms/step - loss: 7.6811e-05 - accuracy: 1.0000\n",
      "Epoch 52/70\n",
      "265/265 [==============================] - 39s 146ms/step - loss: 6.5697e-05 - accuracy: 1.0000\n",
      "Epoch 53/70\n",
      "265/265 [==============================] - 37s 140ms/step - loss: 5.6993e-05 - accuracy: 1.0000\n",
      "Epoch 54/70\n",
      "265/265 [==============================] - 37s 138ms/step - loss: 5.0834e-05 - accuracy: 1.0000\n",
      "Epoch 55/70\n",
      "265/265 [==============================] - 38s 142ms/step - loss: 4.4307e-05 - accuracy: 1.0000\n",
      "Epoch 56/70\n",
      "265/265 [==============================] - 37s 138ms/step - loss: 4.0348e-05 - accuracy: 1.0000\n",
      "Epoch 57/70\n",
      "265/265 [==============================] - 37s 138ms/step - loss: 3.4557e-05 - accuracy: 1.0000\n",
      "Epoch 58/70\n",
      "265/265 [==============================] - 37s 138ms/step - loss: 3.1871e-05 - accuracy: 1.0000\n",
      "Epoch 59/70\n",
      "265/265 [==============================] - 37s 141ms/step - loss: 2.6607e-05 - accuracy: 1.0000\n",
      "Epoch 60/70\n",
      "265/265 [==============================] - 38s 145ms/step - loss: 2.3303e-05 - accuracy: 1.0000\n",
      "Epoch 61/70\n",
      "265/265 [==============================] - 38s 143ms/step - loss: 1.9781e-05 - accuracy: 1.0000\n",
      "Epoch 62/70\n",
      "265/265 [==============================] - 37s 139ms/step - loss: 1.7577e-05 - accuracy: 1.0000\n",
      "Epoch 63/70\n",
      "265/265 [==============================] - 37s 140ms/step - loss: 1.5224e-05 - accuracy: 1.0000\n",
      "Epoch 64/70\n",
      "265/265 [==============================] - 37s 139ms/step - loss: 1.2962e-05 - accuracy: 1.0000\n",
      "Epoch 65/70\n",
      "265/265 [==============================] - 37s 140ms/step - loss: 1.1586e-05 - accuracy: 1.0000\n",
      "Epoch 66/70\n",
      "265/265 [==============================] - 37s 140ms/step - loss: 9.7550e-06 - accuracy: 1.0000\n",
      "Epoch 67/70\n",
      "265/265 [==============================] - 37s 141ms/step - loss: 9.4910e-06 - accuracy: 1.0000\n",
      "Epoch 68/70\n",
      "265/265 [==============================] - 37s 139ms/step - loss: 9.9123e-06 - accuracy: 1.0000\n",
      "Epoch 69/70\n",
      "265/265 [==============================] - 37s 140ms/step - loss: 6.3172e-06 - accuracy: 1.0000\n",
      "Epoch 70/70\n",
      "265/265 [==============================] - 38s 143ms/step - loss: 5.9144e-06 - accuracy: 1.0000\n"
     ]
    },
    {
     "data": {
      "text/plain": [
       "<tensorflow.python.keras.callbacks.History at 0x2259cd5dc48>"
      ]
     },
     "execution_count": 61,
     "metadata": {},
     "output_type": "execute_result"
    }
   ],
   "source": [
    "model = tuned_cnn()\n",
    "model.fit(X_train, y_train, epochs=70, batch_size=36)"
   ]
  },
  {
   "cell_type": "code",
   "execution_count": 62,
   "metadata": {},
   "outputs": [],
   "source": [
    "y_pred = le_train.inverse_transform(np.argmax(model.predict(X_test), axis=1))"
   ]
  },
  {
   "cell_type": "code",
   "execution_count": 63,
   "metadata": {},
   "outputs": [
    {
     "name": "stdout",
     "output_type": "stream",
     "text": [
      "              precision    recall  f1-score   support\n",
      "\n",
      "       akiec       0.91      0.98      0.95       347\n",
      "         bcc       0.91      0.93      0.92       320\n",
      "         bkl       0.72      0.72      0.72       330\n",
      "          df       0.98      1.00      0.99       388\n",
      "         mel       0.71      0.72      0.71       325\n",
      "          nv       0.75      0.63      0.68       336\n",
      "        vasc       0.97      1.00      0.98       334\n",
      "\n",
      "    accuracy                           0.86      2380\n",
      "   macro avg       0.85      0.85      0.85      2380\n",
      "weighted avg       0.85      0.86      0.85      2380\n",
      "\n"
     ]
    }
   ],
   "source": [
    "print(classification_report(y_test, y_pred))"
   ]
  },
  {
   "cell_type": "markdown",
   "metadata": {},
   "source": [
    "## K-fold cross validation"
   ]
  },
  {
   "cell_type": "markdown",
   "metadata": {},
   "source": [
    "Now we compute the medium accuracy of the model through four KFold splits for having a measure of the model its solidity and if it's overfitted:"
   ]
  },
  {
   "cell_type": "code",
   "execution_count": 47,
   "metadata": {},
   "outputs": [],
   "source": [
    "kf = KFold(n_splits=4, shuffle=True)"
   ]
  },
  {
   "cell_type": "code",
   "execution_count": 48,
   "metadata": {},
   "outputs": [
    {
     "name": "stdout",
     "output_type": "stream",
     "text": [
      "Starting KFold 1\n",
      "Epoch 1/70\n",
      "235/235 [==============================] - 34s 145ms/step - loss: 1.7490 - accuracy: 0.2681\n",
      "Epoch 2/70\n",
      "235/235 [==============================] - 33s 142ms/step - loss: 1.5289 - accuracy: 0.3955\n",
      "Epoch 3/70\n",
      "235/235 [==============================] - 33s 141ms/step - loss: 1.3540 - accuracy: 0.4820\n",
      "Epoch 4/70\n",
      "235/235 [==============================] - 33s 139ms/step - loss: 1.1212 - accuracy: 0.5860\n",
      "Epoch 5/70\n",
      "235/235 [==============================] - 33s 138ms/step - loss: 0.9218 - accuracy: 0.6621\n",
      "Epoch 6/70\n",
      "235/235 [==============================] - 32s 138ms/step - loss: 0.7620 - accuracy: 0.7220\n",
      "Epoch 7/70\n",
      "235/235 [==============================] - 33s 139ms/step - loss: 0.6235 - accuracy: 0.7727\n",
      "Epoch 8/70\n",
      "235/235 [==============================] - 33s 139ms/step - loss: 0.5142 - accuracy: 0.8174\n",
      "Epoch 9/70\n",
      "235/235 [==============================] - 33s 140ms/step - loss: 0.4097 - accuracy: 0.8519\n",
      "Epoch 10/70\n",
      "235/235 [==============================] - 32s 138ms/step - loss: 0.3290 - accuracy: 0.8849\n",
      "Epoch 11/70\n",
      "235/235 [==============================] - 32s 138ms/step - loss: 0.2636 - accuracy: 0.9081\n",
      "Epoch 12/70\n",
      "235/235 [==============================] - 33s 140ms/step - loss: 0.2150 - accuracy: 0.9255\n",
      "Epoch 13/70\n",
      "235/235 [==============================] - 33s 139ms/step - loss: 0.1799 - accuracy: 0.9411\n",
      "Epoch 14/70\n",
      "235/235 [==============================] - 33s 140ms/step - loss: 0.1323 - accuracy: 0.9580\n",
      "Epoch 15/70\n",
      "235/235 [==============================] - 33s 139ms/step - loss: 0.1250 - accuracy: 0.9592\n",
      "Epoch 16/70\n",
      "235/235 [==============================] - 33s 140ms/step - loss: 0.0875 - accuracy: 0.9693\n",
      "Epoch 17/70\n",
      "235/235 [==============================] - 33s 138ms/step - loss: 0.0992 - accuracy: 0.9676\n",
      "Epoch 18/70\n",
      "235/235 [==============================] - 33s 139ms/step - loss: 0.0805 - accuracy: 0.9737\n",
      "Epoch 19/70\n",
      "235/235 [==============================] - 33s 139ms/step - loss: 0.0735 - accuracy: 0.9785\n",
      "Epoch 20/70\n",
      "235/235 [==============================] - 32s 138ms/step - loss: 0.0696 - accuracy: 0.9782\n",
      "Epoch 21/70\n",
      "235/235 [==============================] - 34s 143ms/step - loss: 0.0324 - accuracy: 0.9910\n",
      "Epoch 22/70\n",
      "235/235 [==============================] - 34s 147ms/step - loss: 0.0277 - accuracy: 0.9927\n",
      "Epoch 23/70\n",
      "235/235 [==============================] - 32s 138ms/step - loss: 0.0342 - accuracy: 0.9917\n",
      "Epoch 24/70\n",
      "235/235 [==============================] - 32s 137ms/step - loss: 0.0371 - accuracy: 0.9891\n",
      "Epoch 25/70\n",
      "235/235 [==============================] - 33s 141ms/step - loss: 0.0219 - accuracy: 0.9947\n",
      "Epoch 26/70\n",
      "235/235 [==============================] - 33s 143ms/step - loss: 0.0600 - accuracy: 0.9801\n",
      "Epoch 27/70\n",
      "235/235 [==============================] - 33s 141ms/step - loss: 0.0733 - accuracy: 0.9771\n",
      "Epoch 28/70\n",
      "235/235 [==============================] - 33s 139ms/step - loss: 0.0253 - accuracy: 0.9948\n",
      "Epoch 29/70\n",
      "235/235 [==============================] - 33s 142ms/step - loss: 0.0057 - accuracy: 0.9993\n",
      "Epoch 30/70\n",
      "235/235 [==============================] - 33s 141ms/step - loss: 0.0018 - accuracy: 1.0000\n",
      "Epoch 31/70\n",
      "235/235 [==============================] - 33s 139ms/step - loss: 9.5686e-04 - accuracy: 1.0000\n",
      "Epoch 32/70\n",
      "235/235 [==============================] - 33s 139ms/step - loss: 7.4174e-04 - accuracy: 1.0000\n",
      "Epoch 33/70\n",
      "235/235 [==============================] - 33s 140ms/step - loss: 5.7174e-04 - accuracy: 1.0000\n",
      "Epoch 34/70\n",
      "235/235 [==============================] - 33s 141ms/step - loss: 4.6689e-04 - accuracy: 1.0000\n",
      "Epoch 35/70\n",
      "235/235 [==============================] - 33s 139ms/step - loss: 3.9979e-04 - accuracy: 1.0000\n",
      "Epoch 36/70\n",
      "235/235 [==============================] - 33s 139ms/step - loss: 3.3707e-04 - accuracy: 1.0000\n",
      "Epoch 37/70\n",
      "235/235 [==============================] - 33s 140ms/step - loss: 2.8933e-04 - accuracy: 1.0000\n",
      "Epoch 38/70\n",
      "235/235 [==============================] - 33s 138ms/step - loss: 2.4897e-04 - accuracy: 1.0000\n",
      "Epoch 39/70\n",
      "235/235 [==============================] - 32s 138ms/step - loss: 2.2511e-04 - accuracy: 1.0000\n",
      "Epoch 40/70\n",
      "235/235 [==============================] - 33s 141ms/step - loss: 1.9390e-04 - accuracy: 1.0000\n",
      "Epoch 41/70\n",
      "235/235 [==============================] - 33s 140ms/step - loss: 1.6880e-04 - accuracy: 1.0000\n",
      "Epoch 42/70\n",
      "235/235 [==============================] - 33s 140ms/step - loss: 1.4771e-04 - accuracy: 1.0000\n",
      "Epoch 43/70\n",
      "235/235 [==============================] - 33s 140ms/step - loss: 1.2916e-04 - accuracy: 1.0000\n",
      "Epoch 44/70\n",
      "235/235 [==============================] - 33s 139ms/step - loss: 1.1449e-04 - accuracy: 1.0000\n",
      "Epoch 45/70\n",
      "235/235 [==============================] - 32s 138ms/step - loss: 1.0055e-04 - accuracy: 1.0000\n",
      "Epoch 46/70\n",
      "235/235 [==============================] - 32s 138ms/step - loss: 9.1705e-05 - accuracy: 1.0000\n",
      "Epoch 47/70\n",
      "235/235 [==============================] - 33s 139ms/step - loss: 7.7600e-05 - accuracy: 1.0000\n",
      "Epoch 48/70\n",
      "235/235 [==============================] - 33s 140ms/step - loss: 6.8670e-05 - accuracy: 1.0000\n",
      "Epoch 49/70\n",
      "235/235 [==============================] - 33s 140ms/step - loss: 6.2806e-05 - accuracy: 1.0000\n",
      "Epoch 50/70\n",
      "235/235 [==============================] - 33s 140ms/step - loss: 5.3525e-05 - accuracy: 1.0000\n",
      "Epoch 51/70\n",
      "235/235 [==============================] - 33s 138ms/step - loss: 4.7810e-05 - accuracy: 1.0000\n",
      "Epoch 52/70\n",
      "235/235 [==============================] - 33s 141ms/step - loss: 4.1372e-05 - accuracy: 1.0000\n",
      "Epoch 53/70\n",
      "235/235 [==============================] - 33s 141ms/step - loss: 3.5613e-05 - accuracy: 1.0000\n",
      "Epoch 54/70\n",
      "235/235 [==============================] - 33s 139ms/step - loss: 3.2721e-05 - accuracy: 1.0000\n",
      "Epoch 55/70\n",
      "235/235 [==============================] - 33s 139ms/step - loss: 2.7240e-05 - accuracy: 1.0000\n",
      "Epoch 56/70\n",
      "235/235 [==============================] - 33s 141ms/step - loss: 2.4556e-05 - accuracy: 1.0000\n",
      "Epoch 57/70\n",
      "235/235 [==============================] - 33s 139ms/step - loss: 2.1560e-05 - accuracy: 1.0000\n",
      "Epoch 58/70\n",
      "235/235 [==============================] - 33s 141ms/step - loss: 1.9427e-05 - accuracy: 1.0000\n",
      "Epoch 59/70\n",
      "235/235 [==============================] - 33s 141ms/step - loss: 1.6304e-05 - accuracy: 1.0000\n",
      "Epoch 60/70\n",
      "235/235 [==============================] - 32s 138ms/step - loss: 1.4683e-05 - accuracy: 1.0000\n",
      "Epoch 61/70\n",
      "235/235 [==============================] - 33s 138ms/step - loss: 1.4357e-05 - accuracy: 1.0000\n",
      "Epoch 62/70\n",
      "235/235 [==============================] - 33s 139ms/step - loss: 1.1768e-05 - accuracy: 1.0000\n",
      "Epoch 63/70\n",
      "235/235 [==============================] - 33s 140ms/step - loss: 1.1333e-05 - accuracy: 1.0000\n",
      "Epoch 64/70\n",
      "235/235 [==============================] - 33s 140ms/step - loss: 8.8163e-06 - accuracy: 1.0000\n",
      "Epoch 65/70\n",
      "235/235 [==============================] - 33s 140ms/step - loss: 7.6887e-06 - accuracy: 1.0000\n",
      "Epoch 66/70\n",
      "235/235 [==============================] - 33s 139ms/step - loss: 7.0536e-06 - accuracy: 1.0000\n",
      "Epoch 67/70\n",
      "235/235 [==============================] - 33s 139ms/step - loss: 5.9611e-06 - accuracy: 1.0000\n",
      "Epoch 68/70\n",
      "235/235 [==============================] - 33s 139ms/step - loss: 5.3148e-06 - accuracy: 1.0000\n",
      "Epoch 69/70\n",
      "235/235 [==============================] - 33s 140ms/step - loss: 4.5204e-06 - accuracy: 1.0000\n",
      "Epoch 70/70\n",
      "235/235 [==============================] - 33s 141ms/step - loss: 4.1858e-06 - accuracy: 1.0000\n",
      "Starting KFold 2\n",
      "Epoch 1/70\n",
      "235/235 [==============================] - 33s 140ms/step - loss: 1.7870 - accuracy: 0.2462\n",
      "Epoch 2/70\n",
      "235/235 [==============================] - 32s 138ms/step - loss: 1.5395 - accuracy: 0.3920\n",
      "Epoch 3/70\n",
      "235/235 [==============================] - 33s 139ms/step - loss: 1.3705 - accuracy: 0.4746\n",
      "Epoch 4/70\n",
      "235/235 [==============================] - 33s 138ms/step - loss: 1.1971 - accuracy: 0.5556\n",
      "Epoch 5/70\n",
      "235/235 [==============================] - 33s 140ms/step - loss: 1.0063 - accuracy: 0.6363\n",
      "Epoch 6/70\n",
      "235/235 [==============================] - 33s 140ms/step - loss: 0.8547 - accuracy: 0.6884\n",
      "Epoch 7/70\n",
      "235/235 [==============================] - 33s 139ms/step - loss: 0.6976 - accuracy: 0.7539\n",
      "Epoch 8/70\n"
     ]
    },
    {
     "name": "stdout",
     "output_type": "stream",
     "text": [
      "235/235 [==============================] - 33s 139ms/step - loss: 0.5794 - accuracy: 0.7923\n",
      "Epoch 9/70\n",
      "235/235 [==============================] - 32s 137ms/step - loss: 0.4731 - accuracy: 0.8267\n",
      "Epoch 10/70\n",
      "235/235 [==============================] - 32s 137ms/step - loss: 0.3833 - accuracy: 0.8614\n",
      "Epoch 11/70\n",
      "235/235 [==============================] - 33s 139ms/step - loss: 0.3180 - accuracy: 0.8914\n",
      "Epoch 12/70\n",
      "235/235 [==============================] - 32s 138ms/step - loss: 0.2780 - accuracy: 0.9017\n",
      "Epoch 13/70\n",
      "235/235 [==============================] - 32s 138ms/step - loss: 0.2192 - accuracy: 0.9277\n",
      "Epoch 14/70\n",
      "235/235 [==============================] - 33s 141ms/step - loss: 0.1815 - accuracy: 0.9390\n",
      "Epoch 15/70\n",
      "235/235 [==============================] - 33s 142ms/step - loss: 0.1526 - accuracy: 0.9496\n",
      "Epoch 16/70\n",
      "235/235 [==============================] - 32s 137ms/step - loss: 0.1315 - accuracy: 0.9569\n",
      "Epoch 17/70\n",
      "235/235 [==============================] - 33s 139ms/step - loss: 0.1108 - accuracy: 0.9646\n",
      "Epoch 18/70\n",
      "235/235 [==============================] - 33s 139ms/step - loss: 0.0862 - accuracy: 0.9729\n",
      "Epoch 19/70\n",
      "235/235 [==============================] - 33s 140ms/step - loss: 0.0834 - accuracy: 0.9742\n",
      "Epoch 20/70\n",
      "235/235 [==============================] - 33s 139ms/step - loss: 0.0577 - accuracy: 0.9829\n",
      "Epoch 21/70\n",
      "235/235 [==============================] - 32s 137ms/step - loss: 0.0612 - accuracy: 0.9822\n",
      "Epoch 22/70\n",
      "235/235 [==============================] - 32s 137ms/step - loss: 0.0654 - accuracy: 0.9804\n",
      "Epoch 23/70\n",
      "235/235 [==============================] - 33s 139ms/step - loss: 0.0439 - accuracy: 0.9871\n",
      "Epoch 24/70\n",
      "235/235 [==============================] - 33s 139ms/step - loss: 0.0835 - accuracy: 0.9728\n",
      "Epoch 25/70\n",
      "235/235 [==============================] - 33s 139ms/step - loss: 0.0648 - accuracy: 0.9802\n",
      "Epoch 26/70\n",
      "235/235 [==============================] - 33s 139ms/step - loss: 0.0179 - accuracy: 0.9963\n",
      "Epoch 27/70\n",
      "235/235 [==============================] - 32s 138ms/step - loss: 0.0173 - accuracy: 0.9954\n",
      "Epoch 28/70\n",
      "235/235 [==============================] - 32s 138ms/step - loss: 0.0203 - accuracy: 0.9951\n",
      "Epoch 29/70\n",
      "235/235 [==============================] - 32s 138ms/step - loss: 0.0586 - accuracy: 0.9813\n",
      "Epoch 30/70\n",
      "235/235 [==============================] - 32s 138ms/step - loss: 0.0728 - accuracy: 0.9786\n",
      "Epoch 31/70\n",
      "235/235 [==============================] - 32s 138ms/step - loss: 0.0331 - accuracy: 0.9898\n",
      "Epoch 32/70\n",
      "235/235 [==============================] - 32s 138ms/step - loss: 0.0095 - accuracy: 0.9983\n",
      "Epoch 33/70\n",
      "235/235 [==============================] - 33s 140ms/step - loss: 0.0061 - accuracy: 0.9988\n",
      "Epoch 34/70\n",
      "235/235 [==============================] - 32s 138ms/step - loss: 0.0617 - accuracy: 0.9805\n",
      "Epoch 35/70\n",
      "235/235 [==============================] - 33s 139ms/step - loss: 0.0170 - accuracy: 0.9956\n",
      "Epoch 36/70\n",
      "235/235 [==============================] - 32s 138ms/step - loss: 0.0066 - accuracy: 0.9991\n",
      "Epoch 37/70\n",
      "235/235 [==============================] - 32s 138ms/step - loss: 0.0032 - accuracy: 0.9997\n",
      "Epoch 38/70\n",
      "235/235 [==============================] - 35s 147ms/step - loss: 9.2673e-04 - accuracy: 1.0000\n",
      "Epoch 39/70\n",
      "235/235 [==============================] - 33s 140ms/step - loss: 5.7911e-04 - accuracy: 1.0000\n",
      "Epoch 40/70\n",
      "235/235 [==============================] - 33s 139ms/step - loss: 4.9072e-04 - accuracy: 1.0000\n",
      "Epoch 41/70\n",
      "235/235 [==============================] - 32s 138ms/step - loss: 4.0698e-04 - accuracy: 1.0000\n",
      "Epoch 42/70\n",
      "235/235 [==============================] - 32s 138ms/step - loss: 3.4442e-04 - accuracy: 1.0000\n",
      "Epoch 43/70\n",
      "235/235 [==============================] - 33s 139ms/step - loss: 2.8919e-04 - accuracy: 1.0000\n",
      "Epoch 44/70\n",
      "235/235 [==============================] - 32s 138ms/step - loss: 2.6421e-04 - accuracy: 1.0000\n",
      "Epoch 45/70\n",
      "235/235 [==============================] - 33s 139ms/step - loss: 2.2478e-04 - accuracy: 1.0000\n",
      "Epoch 46/70\n",
      "235/235 [==============================] - 33s 139ms/step - loss: 2.3650e-04 - accuracy: 1.0000\n",
      "Epoch 47/70\n",
      "235/235 [==============================] - 33s 139ms/step - loss: 1.7823e-04 - accuracy: 1.0000\n",
      "Epoch 48/70\n",
      "235/235 [==============================] - 34s 143ms/step - loss: 1.5743e-04 - accuracy: 1.0000\n",
      "Epoch 49/70\n",
      "235/235 [==============================] - 33s 140ms/step - loss: 1.3623e-04 - accuracy: 1.0000\n",
      "Epoch 50/70\n",
      "235/235 [==============================] - 33s 140ms/step - loss: 1.2315e-04 - accuracy: 1.0000\n",
      "Epoch 51/70\n",
      "235/235 [==============================] - 33s 141ms/step - loss: 1.1252e-04 - accuracy: 1.0000\n",
      "Epoch 52/70\n",
      "235/235 [==============================] - 32s 137ms/step - loss: 9.5353e-05 - accuracy: 1.0000\n",
      "Epoch 53/70\n",
      "235/235 [==============================] - 32s 137ms/step - loss: 8.9478e-05 - accuracy: 1.0000\n",
      "Epoch 54/70\n",
      "235/235 [==============================] - 32s 137ms/step - loss: 8.0395e-05 - accuracy: 1.0000\n",
      "Epoch 55/70\n",
      "235/235 [==============================] - 33s 139ms/step - loss: 6.7772e-05 - accuracy: 1.0000\n",
      "Epoch 56/70\n",
      "235/235 [==============================] - 32s 138ms/step - loss: 5.9043e-05 - accuracy: 1.0000\n",
      "Epoch 57/70\n",
      "235/235 [==============================] - 32s 138ms/step - loss: 6.1146e-05 - accuracy: 1.0000\n",
      "Epoch 58/70\n",
      "235/235 [==============================] - 33s 139ms/step - loss: 5.3142e-05 - accuracy: 1.0000\n",
      "Epoch 59/70\n",
      "235/235 [==============================] - 32s 136ms/step - loss: 0.2806 - accuracy: 0.9229\n",
      "Epoch 60/70\n",
      "235/235 [==============================] - 32s 137ms/step - loss: 0.0571 - accuracy: 0.9832\n",
      "Epoch 61/70\n",
      "235/235 [==============================] - 33s 140ms/step - loss: 0.0198 - accuracy: 0.9948\n",
      "Epoch 62/70\n",
      "235/235 [==============================] - 33s 139ms/step - loss: 0.0056 - accuracy: 0.9990\n",
      "Epoch 63/70\n",
      "235/235 [==============================] - 32s 138ms/step - loss: 0.0018 - accuracy: 1.0000\n",
      "Epoch 64/70\n",
      "235/235 [==============================] - 32s 137ms/step - loss: 9.1721e-04 - accuracy: 1.0000\n",
      "Epoch 65/70\n",
      "235/235 [==============================] - 32s 138ms/step - loss: 7.0589e-04 - accuracy: 1.0000\n",
      "Epoch 66/70\n",
      "235/235 [==============================] - 32s 137ms/step - loss: 5.7616e-04 - accuracy: 1.0000\n",
      "Epoch 67/70\n",
      "235/235 [==============================] - 32s 138ms/step - loss: 4.7612e-04 - accuracy: 1.0000\n",
      "Epoch 68/70\n",
      "235/235 [==============================] - 34s 143ms/step - loss: 4.1154e-04 - accuracy: 1.0000\n",
      "Epoch 69/70\n",
      "235/235 [==============================] - 32s 138ms/step - loss: 3.5422e-04 - accuracy: 1.0000\n",
      "Epoch 70/70\n",
      "235/235 [==============================] - 33s 140ms/step - loss: 3.0180e-04 - accuracy: 1.0000\n",
      "Starting KFold 3\n",
      "Epoch 1/70\n",
      "235/235 [==============================] - 33s 141ms/step - loss: 1.8027 - accuracy: 0.2448\n",
      "Epoch 2/70\n",
      "235/235 [==============================] - 32s 138ms/step - loss: 1.5539 - accuracy: 0.3852\n",
      "Epoch 3/70\n",
      "235/235 [==============================] - 32s 138ms/step - loss: 1.4255 - accuracy: 0.4483\n",
      "Epoch 4/70\n",
      "235/235 [==============================] - 33s 138ms/step - loss: 1.2757 - accuracy: 0.5163\n",
      "Epoch 5/70\n",
      "235/235 [==============================] - 33s 140ms/step - loss: 1.0954 - accuracy: 0.5935\n",
      "Epoch 6/70\n",
      "235/235 [==============================] - 33s 138ms/step - loss: 0.9016 - accuracy: 0.6760\n",
      "Epoch 7/70\n",
      "235/235 [==============================] - 33s 140ms/step - loss: 0.7342 - accuracy: 0.7395\n",
      "Epoch 8/70\n",
      "235/235 [==============================] - 32s 137ms/step - loss: 0.5994 - accuracy: 0.7822\n",
      "Epoch 9/70\n",
      "235/235 [==============================] - 32s 137ms/step - loss: 0.4898 - accuracy: 0.8253\n",
      "Epoch 10/70\n",
      "235/235 [==============================] - 32s 137ms/step - loss: 0.4001 - accuracy: 0.8586\n",
      "Epoch 11/70\n",
      "235/235 [==============================] - 33s 141ms/step - loss: 0.3307 - accuracy: 0.8845\n",
      "Epoch 12/70\n",
      "235/235 [==============================] - 33s 140ms/step - loss: 0.2770 - accuracy: 0.9038\n",
      "Epoch 13/70\n",
      "235/235 [==============================] - 32s 138ms/step - loss: 0.2232 - accuracy: 0.9244\n",
      "Epoch 14/70\n",
      "235/235 [==============================] - 33s 142ms/step - loss: 0.1873 - accuracy: 0.9343\n",
      "Epoch 15/70\n",
      "235/235 [==============================] - 33s 141ms/step - loss: 0.1502 - accuracy: 0.9514\n",
      "Epoch 16/70\n",
      "235/235 [==============================] - 32s 138ms/step - loss: 0.1265 - accuracy: 0.9580\n",
      "Epoch 17/70\n",
      "235/235 [==============================] - 32s 136ms/step - loss: 0.1135 - accuracy: 0.9616\n",
      "Epoch 18/70\n",
      "235/235 [==============================] - 32s 136ms/step - loss: 0.0868 - accuracy: 0.9729\n",
      "Epoch 19/70\n",
      "235/235 [==============================] - 32s 136ms/step - loss: 0.0668 - accuracy: 0.9803\n",
      "Epoch 20/70\n",
      "235/235 [==============================] - 32s 136ms/step - loss: 0.0746 - accuracy: 0.9759\n",
      "Epoch 21/70\n",
      "235/235 [==============================] - 32s 136ms/step - loss: 0.0845 - accuracy: 0.9734\n",
      "Epoch 22/70\n",
      "235/235 [==============================] - 32s 138ms/step - loss: 0.0821 - accuracy: 0.9718\n",
      "Epoch 23/70\n",
      "235/235 [==============================] - 32s 136ms/step - loss: 0.0464 - accuracy: 0.9866\n",
      "Epoch 24/70\n",
      "235/235 [==============================] - 32s 136ms/step - loss: 0.0232 - accuracy: 0.9946\n",
      "Epoch 25/70\n",
      "235/235 [==============================] - 32s 137ms/step - loss: 0.0579 - accuracy: 0.9806\n",
      "Epoch 26/70\n",
      "235/235 [==============================] - 32s 136ms/step - loss: 0.0560 - accuracy: 0.9813\n",
      "Epoch 27/70\n",
      "235/235 [==============================] - 32s 136ms/step - loss: 0.0271 - accuracy: 0.9936\n",
      "Epoch 28/70\n",
      "235/235 [==============================] - 32s 137ms/step - loss: 0.0302 - accuracy: 0.9928\n",
      "Epoch 29/70\n",
      "235/235 [==============================] - 32s 137ms/step - loss: 0.0475 - accuracy: 0.9844\n",
      "Epoch 30/70\n",
      "235/235 [==============================] - 32s 137ms/step - loss: 0.0337 - accuracy: 0.9900\n",
      "Epoch 31/70\n",
      "235/235 [==============================] - 32s 136ms/step - loss: 0.0366 - accuracy: 0.9885\n",
      "Epoch 32/70\n",
      "235/235 [==============================] - 32s 136ms/step - loss: 0.0551 - accuracy: 0.9814\n",
      "Epoch 33/70\n",
      "235/235 [==============================] - 32s 136ms/step - loss: 0.0310 - accuracy: 0.9908\n",
      "Epoch 34/70\n",
      "235/235 [==============================] - 33s 141ms/step - loss: 0.0334 - accuracy: 0.9900\n",
      "Epoch 35/70\n",
      "235/235 [==============================] - 34s 146ms/step - loss: 0.0407 - accuracy: 0.9869\n",
      "Epoch 36/70\n",
      "235/235 [==============================] - 35s 150ms/step - loss: 0.0066 - accuracy: 0.9990\n",
      "Epoch 37/70\n",
      "235/235 [==============================] - 32s 137ms/step - loss: 0.0061 - accuracy: 0.9984\n",
      "Epoch 38/70\n",
      "235/235 [==============================] - 32s 137ms/step - loss: 0.0026 - accuracy: 0.9997\n",
      "Epoch 39/70\n",
      "235/235 [==============================] - 32s 137ms/step - loss: 7.5954e-04 - accuracy: 1.0000\n",
      "Epoch 40/70\n",
      "235/235 [==============================] - 32s 136ms/step - loss: 5.6191e-04 - accuracy: 1.0000\n",
      "Epoch 41/70\n",
      "235/235 [==============================] - 32s 136ms/step - loss: 4.4449e-04 - accuracy: 1.0000\n",
      "Epoch 42/70\n",
      "235/235 [==============================] - 32s 136ms/step - loss: 3.7296e-04 - accuracy: 1.0000\n",
      "Epoch 43/70\n",
      "235/235 [==============================] - 32s 136ms/step - loss: 3.2033e-04 - accuracy: 1.0000\n",
      "Epoch 44/70\n",
      "235/235 [==============================] - 32s 136ms/step - loss: 2.8440e-04 - accuracy: 1.0000\n",
      "Epoch 45/70\n",
      "235/235 [==============================] - 32s 136ms/step - loss: 2.4201e-04 - accuracy: 1.0000\n",
      "Epoch 46/70\n",
      "235/235 [==============================] - 32s 136ms/step - loss: 2.1387e-04 - accuracy: 1.0000\n",
      "Epoch 47/70\n",
      "235/235 [==============================] - 32s 136ms/step - loss: 1.8862e-04 - accuracy: 1.0000\n",
      "Epoch 48/70\n",
      "235/235 [==============================] - 32s 136ms/step - loss: 1.7016e-04 - accuracy: 1.0000\n",
      "Epoch 49/70\n",
      "235/235 [==============================] - 33s 140ms/step - loss: 1.4789e-04 - accuracy: 1.0000\n",
      "Epoch 50/70\n",
      "235/235 [==============================] - 33s 139ms/step - loss: 1.2988e-04 - accuracy: 1.0000\n",
      "Epoch 51/70\n",
      "235/235 [==============================] - 32s 138ms/step - loss: 1.1715e-04 - accuracy: 1.0000\n",
      "Epoch 52/70\n",
      "235/235 [==============================] - 32s 138ms/step - loss: 1.0360e-04 - accuracy: 1.0000\n",
      "Epoch 53/70\n",
      "235/235 [==============================] - 33s 138ms/step - loss: 9.1594e-05 - accuracy: 1.0000\n",
      "Epoch 54/70\n",
      "235/235 [==============================] - 32s 138ms/step - loss: 8.2378e-05 - accuracy: 1.0000\n",
      "Epoch 55/70\n",
      "235/235 [==============================] - 32s 138ms/step - loss: 7.2956e-05 - accuracy: 1.0000\n",
      "Epoch 56/70\n",
      "235/235 [==============================] - 32s 138ms/step - loss: 6.5136e-05 - accuracy: 1.0000\n",
      "Epoch 57/70\n",
      "235/235 [==============================] - 33s 141ms/step - loss: 5.6960e-05 - accuracy: 1.0000\n",
      "Epoch 58/70\n",
      "235/235 [==============================] - 32s 137ms/step - loss: 5.0291e-05 - accuracy: 1.0000\n",
      "Epoch 59/70\n",
      "235/235 [==============================] - 32s 138ms/step - loss: 4.3942e-05 - accuracy: 1.0000\n",
      "Epoch 60/70\n",
      "235/235 [==============================] - 32s 138ms/step - loss: 3.9919e-05 - accuracy: 1.0000\n",
      "Epoch 61/70\n",
      "235/235 [==============================] - 33s 138ms/step - loss: 3.5411e-05 - accuracy: 1.0000\n",
      "Epoch 62/70\n",
      "235/235 [==============================] - 32s 138ms/step - loss: 3.1063e-05 - accuracy: 1.0000\n",
      "Epoch 63/70\n",
      "235/235 [==============================] - 32s 136ms/step - loss: 2.7860e-05 - accuracy: 1.0000\n",
      "Epoch 64/70\n",
      "235/235 [==============================] - 32s 137ms/step - loss: 2.4609e-05 - accuracy: 1.0000\n",
      "Epoch 65/70\n",
      "235/235 [==============================] - 32s 137ms/step - loss: 2.1828e-05 - accuracy: 1.0000\n",
      "Epoch 66/70\n",
      "235/235 [==============================] - 33s 139ms/step - loss: 1.8996e-05 - accuracy: 1.0000\n",
      "Epoch 67/70\n",
      "235/235 [==============================] - 33s 139ms/step - loss: 1.6552e-05 - accuracy: 1.0000\n",
      "Epoch 68/70\n",
      "235/235 [==============================] - 33s 139ms/step - loss: 1.5107e-05 - accuracy: 1.0000\n",
      "Epoch 69/70\n",
      "235/235 [==============================] - 33s 138ms/step - loss: 1.3272e-05 - accuracy: 1.0000\n",
      "Epoch 70/70\n",
      "235/235 [==============================] - 33s 139ms/step - loss: 1.1604e-05 - accuracy: 1.0000\n",
      "Starting KFold 4\n",
      "Epoch 1/70\n",
      "235/235 [==============================] - 34s 143ms/step - loss: 1.8710 - accuracy: 0.2114\n",
      "Epoch 2/70\n",
      "235/235 [==============================] - 32s 138ms/step - loss: 1.5841 - accuracy: 0.3624\n",
      "Epoch 3/70\n",
      "235/235 [==============================] - 33s 139ms/step - loss: 1.4565 - accuracy: 0.4361\n",
      "Epoch 4/70\n",
      "235/235 [==============================] - 33s 139ms/step - loss: 1.3069 - accuracy: 0.5073\n",
      "Epoch 5/70\n",
      "235/235 [==============================] - 33s 139ms/step - loss: 1.1513 - accuracy: 0.5745\n",
      "Epoch 6/70\n",
      "235/235 [==============================] - 33s 141ms/step - loss: 0.9932 - accuracy: 0.6372\n",
      "Epoch 7/70\n",
      "235/235 [==============================] - 33s 140ms/step - loss: 0.8281 - accuracy: 0.7060\n",
      "Epoch 8/70\n",
      "235/235 [==============================] - 33s 139ms/step - loss: 0.7190 - accuracy: 0.7395\n",
      "Epoch 9/70\n",
      "235/235 [==============================] - 33s 140ms/step - loss: 0.5946 - accuracy: 0.7922\n",
      "Epoch 10/70\n",
      "235/235 [==============================] - 33s 139ms/step - loss: 0.5060 - accuracy: 0.8207\n",
      "Epoch 11/70\n",
      "235/235 [==============================] - 33s 140ms/step - loss: 0.4379 - accuracy: 0.8474\n",
      "Epoch 12/70\n",
      "235/235 [==============================] - 33s 142ms/step - loss: 0.3561 - accuracy: 0.8753\n",
      "Epoch 13/70\n",
      "235/235 [==============================] - 34s 143ms/step - loss: 0.3163 - accuracy: 0.8921\n",
      "Epoch 14/70\n",
      "235/235 [==============================] - 33s 142ms/step - loss: 0.2711 - accuracy: 0.9077\n",
      "Epoch 15/70\n",
      "235/235 [==============================] - 34s 144ms/step - loss: 0.2199 - accuracy: 0.9249\n",
      "Epoch 16/70\n",
      "235/235 [==============================] - 33s 139ms/step - loss: 0.1935 - accuracy: 0.9370\n",
      "Epoch 17/70\n",
      "235/235 [==============================] - 33s 139ms/step - loss: 0.1653 - accuracy: 0.9464\n",
      "Epoch 18/70\n",
      "235/235 [==============================] - 33s 139ms/step - loss: 0.1433 - accuracy: 0.9535\n",
      "Epoch 19/70\n",
      "235/235 [==============================] - 33s 140ms/step - loss: 0.1113 - accuracy: 0.9627\n",
      "Epoch 20/70\n",
      "235/235 [==============================] - 33s 139ms/step - loss: 0.1241 - accuracy: 0.9583\n",
      "Epoch 21/70\n",
      "235/235 [==============================] - 33s 139ms/step - loss: 0.1000 - accuracy: 0.9671\n",
      "Epoch 22/70\n"
     ]
    },
    {
     "name": "stdout",
     "output_type": "stream",
     "text": [
      "235/235 [==============================] - 33s 140ms/step - loss: 0.0659 - accuracy: 0.9801\n",
      "Epoch 23/70\n",
      "235/235 [==============================] - 33s 139ms/step - loss: 0.0878 - accuracy: 0.9738\n",
      "Epoch 24/70\n",
      "235/235 [==============================] - 33s 139ms/step - loss: 0.0716 - accuracy: 0.9771\n",
      "Epoch 25/70\n",
      "235/235 [==============================] - 33s 139ms/step - loss: 0.0621 - accuracy: 0.9817\n",
      "Epoch 26/70\n",
      "235/235 [==============================] - 32s 138ms/step - loss: 0.0536 - accuracy: 0.9831\n",
      "Epoch 27/70\n",
      "235/235 [==============================] - 33s 142ms/step - loss: 0.0375 - accuracy: 0.9898\n",
      "Epoch 28/70\n",
      "235/235 [==============================] - 32s 138ms/step - loss: 0.0454 - accuracy: 0.9860\n",
      "Epoch 29/70\n",
      "235/235 [==============================] - 32s 138ms/step - loss: 0.0319 - accuracy: 0.9913\n",
      "Epoch 30/70\n",
      "235/235 [==============================] - 33s 140ms/step - loss: 0.0549 - accuracy: 0.9830\n",
      "Epoch 31/70\n",
      "235/235 [==============================] - 33s 139ms/step - loss: 0.0977 - accuracy: 0.9681\n",
      "Epoch 32/70\n",
      "235/235 [==============================] - 32s 138ms/step - loss: 0.0318 - accuracy: 0.9929\n",
      "Epoch 33/70\n",
      "235/235 [==============================] - 32s 138ms/step - loss: 0.0077 - accuracy: 0.9993\n",
      "Epoch 34/70\n",
      "235/235 [==============================] - 33s 139ms/step - loss: 0.0044 - accuracy: 1.0000\n",
      "Epoch 35/70\n",
      "235/235 [==============================] - 32s 138ms/step - loss: 0.0041 - accuracy: 0.9997\n",
      "Epoch 36/70\n",
      "235/235 [==============================] - 32s 138ms/step - loss: 0.0138 - accuracy: 0.9959\n",
      "Epoch 37/70\n",
      "235/235 [==============================] - 32s 138ms/step - loss: 0.1217 - accuracy: 0.9592\n",
      "Epoch 38/70\n",
      "235/235 [==============================] - 33s 138ms/step - loss: 0.0544 - accuracy: 0.9824\n",
      "Epoch 39/70\n",
      "235/235 [==============================] - 32s 138ms/step - loss: 0.0087 - accuracy: 0.9988\n",
      "Epoch 40/70\n",
      "235/235 [==============================] - 32s 138ms/step - loss: 0.0032 - accuracy: 0.9997\n",
      "Epoch 41/70\n",
      "235/235 [==============================] - 32s 138ms/step - loss: 0.0017 - accuracy: 1.0000\n",
      "Epoch 42/70\n",
      "235/235 [==============================] - 32s 138ms/step - loss: 0.0013 - accuracy: 1.0000\n",
      "Epoch 43/70\n",
      "235/235 [==============================] - 32s 138ms/step - loss: 0.0010 - accuracy: 1.0000\n",
      "Epoch 44/70\n",
      "235/235 [==============================] - 33s 138ms/step - loss: 7.9999e-04 - accuracy: 1.0000\n",
      "Epoch 45/70\n",
      "235/235 [==============================] - 32s 138ms/step - loss: 6.9295e-04 - accuracy: 1.0000\n",
      "Epoch 46/70\n",
      "235/235 [==============================] - 33s 139ms/step - loss: 6.0379e-04 - accuracy: 1.0000\n",
      "Epoch 47/70\n",
      "235/235 [==============================] - 32s 138ms/step - loss: 5.5619e-04 - accuracy: 1.0000\n",
      "Epoch 48/70\n",
      "235/235 [==============================] - 32s 138ms/step - loss: 4.5669e-04 - accuracy: 1.0000\n",
      "Epoch 49/70\n",
      "235/235 [==============================] - 33s 138ms/step - loss: 3.9230e-04 - accuracy: 1.0000\n",
      "Epoch 50/70\n",
      "235/235 [==============================] - 32s 138ms/step - loss: 3.8564e-04 - accuracy: 1.0000\n",
      "Epoch 51/70\n",
      "235/235 [==============================] - 33s 138ms/step - loss: 3.0693e-04 - accuracy: 1.0000\n",
      "Epoch 52/70\n",
      "235/235 [==============================] - 33s 139ms/step - loss: 2.5185e-04 - accuracy: 1.0000\n",
      "Epoch 53/70\n",
      "235/235 [==============================] - 33s 139ms/step - loss: 2.3613e-04 - accuracy: 1.0000\n",
      "Epoch 54/70\n",
      "235/235 [==============================] - 33s 138ms/step - loss: 2.3835e-04 - accuracy: 1.0000\n",
      "Epoch 55/70\n",
      "235/235 [==============================] - 33s 138ms/step - loss: 0.3068 - accuracy: 0.9169\n",
      "Epoch 56/70\n",
      "235/235 [==============================] - 32s 138ms/step - loss: 0.0307 - accuracy: 0.9923\n",
      "Epoch 57/70\n",
      "235/235 [==============================] - 32s 138ms/step - loss: 0.0150 - accuracy: 0.9973\n",
      "Epoch 58/70\n",
      "235/235 [==============================] - 33s 138ms/step - loss: 0.0048 - accuracy: 0.9997\n",
      "Epoch 59/70\n",
      "235/235 [==============================] - 33s 139ms/step - loss: 0.0022 - accuracy: 1.0000\n",
      "Epoch 60/70\n",
      "235/235 [==============================] - 32s 138ms/step - loss: 0.0013 - accuracy: 1.0000\n",
      "Epoch 61/70\n",
      "235/235 [==============================] - 32s 138ms/step - loss: 0.0010 - accuracy: 1.0000\n",
      "Epoch 62/70\n",
      "235/235 [==============================] - 33s 138ms/step - loss: 8.5666e-04 - accuracy: 1.0000\n",
      "Epoch 63/70\n",
      "235/235 [==============================] - 33s 138ms/step - loss: 7.3440e-04 - accuracy: 1.0000\n",
      "Epoch 64/70\n",
      "235/235 [==============================] - 33s 138ms/step - loss: 6.1841e-04 - accuracy: 1.0000\n",
      "Epoch 65/70\n",
      "235/235 [==============================] - 32s 138ms/step - loss: 5.3499e-04 - accuracy: 1.0000\n",
      "Epoch 66/70\n",
      "235/235 [==============================] - 33s 139ms/step - loss: 4.4773e-04 - accuracy: 1.0000\n",
      "Epoch 67/70\n",
      "235/235 [==============================] - 33s 139ms/step - loss: 3.9992e-04 - accuracy: 1.0000\n",
      "Epoch 68/70\n",
      "235/235 [==============================] - 32s 138ms/step - loss: 3.3651e-04 - accuracy: 1.0000\n",
      "Epoch 69/70\n",
      "235/235 [==============================] - 32s 138ms/step - loss: 2.9656e-04 - accuracy: 1.0000\n",
      "Epoch 70/70\n",
      "235/235 [==============================] - 32s 138ms/step - loss: 2.4735e-04 - accuracy: 1.0000\n"
     ]
    }
   ],
   "source": [
    "iteration = 0\n",
    "kfold_accuracies = []\n",
    "for train_index, test_index in kf.split(X):\n",
    "    iteration += 1\n",
    "    print('Starting KFold', iteration)\n",
    "    kfold_cnn = tuned_cnn()\n",
    "    kfold_cnn.fit(X[train_index], y_encoded[train_index], epochs=70, batch_size=38)\n",
    "    y_pred_kfold = le_train.inverse_transform(np.argmax(kfold_cnn.predict(X[test_index]),axis=1))\n",
    "    kfold_accuracies.append(accuracy_score(y_pred_kfold, np.array(y)[test_index]))"
   ]
  },
  {
   "cell_type": "code",
   "execution_count": 75,
   "metadata": {},
   "outputs": [
    {
     "data": {
      "image/png": "[encoded data removed]",
      "text/plain": [
       "<Figure size 144x288 with 1 Axes>"
      ]
     },
     "metadata": {
      "needs_background": "light"
     },
     "output_type": "display_data"
    }
   ],
   "source": [
    "splot = sb.barplot([\"KFold mean accuracy\"], [np.mean(kfold_accuracies)])\n",
    "plt.rcParams['figure.figsize'] = (4,9)\n",
    "for p in splot.patches:\n",
    "    splot.annotate(format(p.get_height(),'.3f'), (p.get_x() + p.get_width()/2., p.get_height()), \n",
    "                   ha='center', va='center', xytext=(0,5), textcoords='offset points')"
   ]
  },
  {
   "cell_type": "markdown",
   "metadata": {},
   "source": [
    "## Features importance"
   ]
  },
  {
   "cell_type": "markdown",
   "metadata": {},
   "source": [
    "I conclude this analysis computing importance of each pixel in the classification task using impurity-based method."
   ]
  },
  {
   "cell_type": "code",
   "execution_count": 15,
   "metadata": {},
   "outputs": [
    {
     "data": {
      "text/plain": [
       "<matplotlib.axes._subplots.AxesSubplot at 0x18d12ec7288>"
      ]
     },
     "execution_count": 15,
     "metadata": {},
     "output_type": "execute_result"
    },
    {
     "data": {
      "image/png": "[encoded data removed]",
      "text/plain": [
       "<Figure size 432x288 with 2 Axes>"
      ]
     },
     "metadata": {
      "needs_background": "light"
     },
     "output_type": "display_data"
    }
   ],
   "source": [
    "tree_model = ExtraTreesClassifier(n_estimators=250, random_state=0)\n",
    "X_train_flat = X_train.reshape(np.shape(X_train)[0], np.shape(X_train)[1]*np.shape(X_train)[2])\n",
    "tree_model.fit(X_train_flat, y_train)\n",
    "features_importance = tree_model.feature_importances_\n",
    "sb.heatmap(features_importance.reshape(np.shape(X_train)[1], np.shape(X_train)[2]))"
   ]
  },
  {
   "cell_type": "markdown",
   "metadata": {},
   "source": [
    "Finally I save pixels' importance, that will be important for the second approach."
   ]
  },
  {
   "cell_type": "code",
   "execution_count": 18,
   "metadata": {},
   "outputs": [],
   "source": [
    "hkl.dump(features_importance, 'importances.hkl')"
   ]
  }
 ],
 "metadata": {
  "kernelspec": {
   "display_name": "Python 3",
   "language": "python",
   "name": "python3"
  },
  "language_info": {
   "codemirror_mode": {
    "name": "ipython",
    "version": 3
   },
   "file_extension": ".py",
   "mimetype": "text/x-python",
   "name": "python",
   "nbconvert_exporter": "python",
   "pygments_lexer": "ipython3",
   "version": "3.7.6"
  }
 },
 "nbformat": 4,
 "nbformat_minor": 2
}
